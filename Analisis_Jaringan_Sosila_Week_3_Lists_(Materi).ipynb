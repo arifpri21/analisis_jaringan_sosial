{
  "nbformat": 4,
  "nbformat_minor": 0,
  "metadata": {
    "kernelspec": {
      "display_name": "Python 3",
      "language": "python",
      "name": "python3"
    },
    "language_info": {
      "codemirror_mode": {
        "name": "ipython",
        "version": 3
      },
      "file_extension": ".py",
      "mimetype": "text/x-python",
      "name": "python",
      "nbconvert_exporter": "python",
      "pygments_lexer": "ipython3",
      "version": "3.6.8"
    },
    "colab": {
      "provenance": [],
      "include_colab_link": true
    }
  },
  "cells": [
    {
      "cell_type": "markdown",
      "metadata": {
        "id": "view-in-github",
        "colab_type": "text"
      },
      "source": [
        "<a href=\"https://colab.research.google.com/github/arifpri21/analisis_jaringan_sosial/blob/main/Analisis_Jaringan_Sosila_Week_3_Lists_(Materi).ipynb\" target=\"_parent\"><img src=\"https://colab.research.google.com/assets/colab-badge.svg\" alt=\"Open In Colab\"/></a>"
      ]
    },
    {
      "cell_type": "markdown",
      "source": [
        "**Materi diambil dan diadaptasi dari Cognitive class**.  \n",
        "reference: [Cognitive Class Python Lists](https://colab.research.google.com/github/computationalcore/introduction-to-python/blob/master/notebooks/2-data-structures/PY0101EN-2-2-Lists.ipynb)"
      ],
      "metadata": {
        "id": "UrOTPJyO3cZ6"
      }
    },
    {
      "cell_type": "markdown",
      "metadata": {
        "id": "xZexQRAt1__4"
      },
      "source": [
        "<a href=\"https://cognitiveclass.ai/\">\n",
        "    <img src=\"https://s3-api.us-geo.objectstorage.softlayer.net/cf-courses-data/CognitiveClass/PY0101EN/Ad/CCLog.png\" width=\"200\" align=\"center\">\n",
        "</a>"
      ]
    },
    {
      "cell_type": "markdown",
      "metadata": {
        "id": "EVopA4gD1__6"
      },
      "source": [
        "<h1>Lists pada Python</h1>"
      ]
    },
    {
      "cell_type": "markdown",
      "metadata": {
        "id": "CpGnzJMH1__7"
      },
      "source": [
        "<p><strong>Selamat datang!</strong> Notebook ini akan mengajarkan kita tentang list pada Python. Pada akhir materi anda akan memahami dasar dari penggunaan list, indexing, operasi list dan copy/clone list.</p>"
      ]
    },
    {
      "cell_type": "markdown",
      "metadata": {
        "id": "nmICCrs51__8"
      },
      "source": [
        "<h2>Table of Contents</h2>\n",
        "<div class=\"alert alert-block alert-info\" style=\"margin-top: 20px\">\n",
        "    <ul>\n",
        "        <li>\n",
        "            <a href=\"#dataset\">Tentang Dataset</a>\n",
        "        </li>\n",
        "        <li>\n",
        "            <a href=\"#list\">Lists</a>\n",
        "            <ul>\n",
        "                <li><a href=\"index\">Indexing</a></li>\n",
        "                <li><a href=\"content\">List Content</a></li>\n",
        "                <li><a href=\"op\">List Operations</a></li>\n",
        "                <li><a href=\"co\">Copy and Clone List</a></li>\n",
        "            </ul>\n",
        "        </li>\n",
        "        <li>\n",
        "            <a href=\"#quiz\">Quiz on Lists</a>\n",
        "        </li>\n",
        "    </ul>\n",
        "    <p>\n",
        "        Estimasi waktu dibutuhkan: <strong>30 min</strong>\n",
        "    </p>\n",
        "</div>\n",
        "\n",
        "<hr>"
      ]
    },
    {
      "cell_type": "markdown",
      "metadata": {
        "id": "DZ5U25ml1__-"
      },
      "source": [
        "<h2 id=\"#dataset\">Tentang Dataset</h2>"
      ]
    },
    {
      "cell_type": "markdown",
      "metadata": {
        "id": "RWi_FtTD2AAA"
      },
      "source": [
        "Bayangkan Anda menerima rekomendasi album dari teman-teman Anda dan menyusun semua rekomendasi tersebut ke dalam sebuah tabel, dengan informasi spesifik tentang setiap album.\n",
        "\n",
        "Tabel ini memiliki satu baris untuk setiap film dan beberapa kolom:\n",
        "\n",
        "- **artist** - Nama dari artis\n",
        "- **album** - Nama dari album\n",
        "- **released_year** - Tahun album dikeluarkan\n",
        "- **length_min_sec** - Panjang album (hours,minutes,seconds)\n",
        "- **genre** - Genre dari album\n",
        "- **music_recording_sales_millions** - Hasil Penjualan rekaman  (dalam millions USD) on [SONG://DATABASE](http://www.song-database.com/)\n",
        "- **claimed_sales_millions** - Klaim penjualam album (dalam millions USD) on [SONG://DATABASE](http://www.song-database.com/)\n",
        "- **date_released** - Tanggal dimana album dikeluarkan\n",
        "- **soundtrack** - Indikator jika album termasuk bagian dari soundtrack dari film (Y) or (N)\n",
        "- **rating_of_friends** - Indikator rating dari teman-temanmu dari 1 hingga 10\n",
        "<br>\n",
        "<br>\n",
        "\n",
        "The dataset can be seen below:\n",
        "\n",
        "<font size=\"1\">\n",
        "<table font-size:xx-small style=\"width:25%\">\n",
        "  <tr>\n",
        "    <th>Artist</th>\n",
        "    <th>Album</th>\n",
        "    <th>Released</th>\n",
        "    <th>Length</th>\n",
        "    <th>Genre</th>\n",
        "    <th>Music recording sales (millions)</th>\n",
        "    <th>Claimed sales (millions)</th>\n",
        "    <th>Released</th>\n",
        "    <th>Soundtrack</th>\n",
        "    <th>Rating (friends)</th>\n",
        "  </tr>\n",
        "  <tr>\n",
        "    <td>Michael Jackson</td>\n",
        "    <td>Thriller</td>\n",
        "    <td>1982</td>\n",
        "    <td>00:42:19</td>\n",
        "    <td>Pop, rock, R&B</td>\n",
        "    <td>46</td>\n",
        "    <td>65</td>\n",
        "    <td>30-Nov-82</td>\n",
        "    <td></td>\n",
        "    <td>10.0</td>\n",
        "  </tr>\n",
        "  <tr>\n",
        "    <td>AC/DC</td>\n",
        "    <td>Back in Black</td>\n",
        "    <td>1980</td>\n",
        "    <td>00:42:11</td>\n",
        "    <td>Hard rock</td>\n",
        "    <td>26.1</td>\n",
        "    <td>50</td>\n",
        "    <td>25-Jul-80</td>\n",
        "    <td></td>\n",
        "    <td>8.5</td>\n",
        "  </tr>\n",
        "    <tr>\n",
        "    <td>Pink Floyd</td>\n",
        "    <td>The Dark Side of the Moon</td>\n",
        "    <td>1973</td>\n",
        "    <td>00:42:49</td>\n",
        "    <td>Progressive rock</td>\n",
        "    <td>24.2</td>\n",
        "    <td>45</td>\n",
        "    <td>01-Mar-73</td>\n",
        "    <td></td>\n",
        "    <td>9.5</td>\n",
        "  </tr>\n",
        "    <tr>\n",
        "    <td>Whitney Houston</td>\n",
        "    <td>The Bodyguard</td>\n",
        "    <td>1992</td>\n",
        "    <td>00:57:44</td>\n",
        "    <td>Soundtrack/R&B, soul, pop</td>\n",
        "    <td>26.1</td>\n",
        "    <td>50</td>\n",
        "    <td>25-Jul-80</td>\n",
        "    <td>Y</td>\n",
        "    <td>7.0</td>\n",
        "  </tr>\n",
        "    <tr>\n",
        "    <td>Meat Loaf</td>\n",
        "    <td>Bat Out of Hell</td>\n",
        "    <td>1977</td>\n",
        "    <td>00:46:33</td>\n",
        "    <td>Hard rock, progressive rock</td>\n",
        "    <td>20.6</td>\n",
        "    <td>43</td>\n",
        "    <td>21-Oct-77</td>\n",
        "    <td></td>\n",
        "    <td>7.0</td>\n",
        "  </tr>\n",
        "    <tr>\n",
        "    <td>Eagles</td>\n",
        "    <td>Their Greatest Hits (1971-1975)</td>\n",
        "    <td>1976</td>\n",
        "    <td>00:43:08</td>\n",
        "    <td>Rock, soft rock, folk rock</td>\n",
        "    <td>32.2</td>\n",
        "    <td>42</td>\n",
        "    <td>17-Feb-76</td>\n",
        "    <td></td>\n",
        "    <td>9.5</td>\n",
        "  </tr>\n",
        "    <tr>\n",
        "    <td>Bee Gees</td>\n",
        "    <td>Saturday Night Fever</td>\n",
        "    <td>1977</td>\n",
        "    <td>1:15:54</td>\n",
        "    <td>Disco</td>\n",
        "    <td>20.6</td>\n",
        "    <td>40</td>\n",
        "    <td>15-Nov-77</td>\n",
        "    <td>Y</td>\n",
        "    <td>9.0</td>\n",
        "  </tr>\n",
        "    <tr>\n",
        "    <td>Fleetwood Mac</td>\n",
        "    <td>Rumours</td>\n",
        "    <td>1977</td>\n",
        "    <td>00:40:01</td>\n",
        "    <td>Soft rock</td>\n",
        "    <td>27.9</td>\n",
        "    <td>40</td>\n",
        "    <td>04-Feb-77</td>\n",
        "    <td></td>\n",
        "    <td>9.5</td>\n",
        "  </tr>\n",
        "</table></font>"
      ]
    },
    {
      "cell_type": "markdown",
      "metadata": {
        "id": "2TUr7v472AAB"
      },
      "source": [
        "<hr>"
      ]
    },
    {
      "cell_type": "markdown",
      "metadata": {
        "id": "_07U9Fzq2AAD"
      },
      "source": [
        "<h2 id=\"list\">Lists</h2>"
      ]
    },
    {
      "cell_type": "markdown",
      "metadata": {
        "id": "okUfLDyi2AAE"
      },
      "source": [
        "<h3 id=\"index\">Indexing</h3>"
      ]
    },
    {
      "cell_type": "markdown",
      "metadata": {
        "id": "irAwl1oW2AAG"
      },
      "source": [
        "Kita akan membahas list dalam Python. List adalah kumpulan berurutan dari berbagai objek seperti bilangan bulat, string, dan daftar lainnya. Alamat setiap elemen dalam list disebut <b>indeks</b>. Indeks digunakan untuk mengakses dan merujuk ke item dalam list."
      ]
    },
    {
      "cell_type": "markdown",
      "metadata": {
        "id": "u4tu694J2AAH"
      },
      "source": [
        "<img src=\"https://s3-api.us-geo.objectstorage.softlayer.net/cf-courses-data/CognitiveClass/PY0101EN/Chapter%202/Images/ListsIndex.png\" width=\"1000\" />"
      ]
    },
    {
      "cell_type": "markdown",
      "metadata": {
        "id": "vo563YVy2AAI"
      },
      "source": [
        "Untuk membuat daftar, ketik daftar tersebut dalam tanda kurung siku <b>[ ]</b>, dengan konten Anda di dalam tanda kurung dan dipisahkan dengan koma. Mari kita coba!"
      ]
    },
    {
      "cell_type": "code",
      "metadata": {
        "id": "uWuoNoQ42AAJ"
      },
      "source": [
        "# Create a list\n",
        "\n",
        "L = [\"Michael Jackson\", 10.1, 1982]\n",
        "L"
      ],
      "execution_count": null,
      "outputs": []
    },
    {
      "cell_type": "markdown",
      "metadata": {
        "id": "r1fsG-SR2AAR"
      },
      "source": [
        "We can use negative and regular indexing with a list :"
      ]
    },
    {
      "cell_type": "markdown",
      "metadata": {
        "id": "nHyIhmFq2AAT"
      },
      "source": [
        "<img src=\"https://s3-api.us-geo.objectstorage.softlayer.net/cf-courses-data/CognitiveClass/PY0101EN/Chapter%202/Images/ListsNeg.png\" width=\"1000\" />"
      ]
    },
    {
      "cell_type": "code",
      "metadata": {
        "id": "0poDkXQE2AAU"
      },
      "source": [
        "# Print the elements on each index\n",
        "\n",
        "print('the same element using negative and positive indexing:\\n Postive:',L[0],\n",
        "'\\n Negative:' , L[-3]  )\n",
        "print('the same element using negative and positive indexing:\\n Postive:',L[1],\n",
        "'\\n Negative:' , L[-2]  )\n",
        "print('the same element using negative and positive indexing:\\n Postive:',L[2],\n",
        "'\\n Negative:' , L[-1]  )"
      ],
      "execution_count": null,
      "outputs": []
    },
    {
      "cell_type": "markdown",
      "metadata": {
        "id": "x-xBslNH2AAZ"
      },
      "source": [
        "<h3 id=\"content\">List Content</h3>"
      ]
    },
    {
      "cell_type": "markdown",
      "metadata": {
        "id": "T4T38D3K2AAb"
      },
      "source": [
        "List dapat berisi string, float, dan integer. Kita dapat menumpuk list lain, dan kita juga dapat menumpuk *tuple* dan struktur data lainnya. Konvensi pengindeksan yang sama berlaku untuk penumpukan:   "
      ]
    },
    {
      "cell_type": "code",
      "metadata": {
        "id": "ZNG2kj6_2AAc"
      },
      "source": [
        "# Sample List\n",
        "\n",
        "[\"Michael Jackson\", 10.1, 1982, [1, 2], (\"A\", 1)]"
      ],
      "execution_count": null,
      "outputs": []
    },
    {
      "cell_type": "markdown",
      "metadata": {
        "id": "n6qCqbCz2AAh"
      },
      "source": [
        "<h3 id=\"op\">List Operations</h3>"
      ]
    },
    {
      "cell_type": "markdown",
      "metadata": {
        "id": "43aCKaxp2AAj"
      },
      "source": [
        "Kita juga dapat melakukan pemotongan dalam list. Misalnya, jika kita menginginkan dua elemen terakhir, kita menggunakan perintah berikut:"
      ]
    },
    {
      "cell_type": "code",
      "metadata": {
        "id": "fkoifts72AAk"
      },
      "source": [
        "# Sample List\n",
        "\n",
        "L = [\"Michael Jackson\", 10.1,1982,\"MJ\",1]\n",
        "L"
      ],
      "execution_count": null,
      "outputs": []
    },
    {
      "cell_type": "markdown",
      "metadata": {
        "id": "OLCYsAaB2AAs"
      },
      "source": [
        "<img src=\"https://s3-api.us-geo.objectstorage.softlayer.net/cf-courses-data/CognitiveClass/PY0101EN/Chapter%202/Images/ListsSlice.png\" width=\"1000\">"
      ]
    },
    {
      "cell_type": "code",
      "metadata": {
        "id": "mjjkSM5G2AAt"
      },
      "source": [
        "# List slicing\n",
        "\n",
        "L[3:5]"
      ],
      "execution_count": null,
      "outputs": []
    },
    {
      "cell_type": "markdown",
      "metadata": {
        "id": "OvpOPoBq2AA0"
      },
      "source": [
        "Kita dapat menggunakan metode <code>extend</code> untuk menambahkan elemen baru ke dalam list:"
      ]
    },
    {
      "cell_type": "code",
      "metadata": {
        "id": "Dd9fPvoI2AA1"
      },
      "source": [
        "# Use extend to add elements to list\n",
        "\n",
        "L = [ \"Michael Jackson\", 10.2]\n",
        "L.extend(['pop', 10])\n",
        "L"
      ],
      "execution_count": null,
      "outputs": []
    },
    {
      "cell_type": "markdown",
      "metadata": {
        "id": "_YmnYpYh2AA7"
      },
      "source": [
        "Metode lain yang serupa adalah <code>append</code>. Jika kita menerapkan <code>append</code> alih-alih <code>extend</code>, kita menambahkan satu elemen ke dalam list:"
      ]
    },
    {
      "cell_type": "code",
      "metadata": {
        "id": "tU1wjgVV2AA8"
      },
      "source": [
        "# Use append to add elements to list\n",
        "\n",
        "L = [ \"Michael Jackson\", 10.2]\n",
        "L.append(['pop', 10])\n",
        "L"
      ],
      "execution_count": null,
      "outputs": []
    },
    {
      "cell_type": "markdown",
      "metadata": {
        "id": "DZhP4f5g2ABE"
      },
      "source": [
        "Setiap kali kita menerapkan suatu metode, list akan berubah. Jika kita menerapkan <code>extend</code>, kita menambahkan dua elemen baru ke dalam list. List <code>L</code> kemudian dimodifikasi dengan menambahkan dua elemen baru:"
      ]
    },
    {
      "cell_type": "code",
      "metadata": {
        "id": "7sKM-tCz2ABI"
      },
      "source": [
        "# Use extend to add elements to list\n",
        "\n",
        "L = [ \"Michael Jackson\", 10.2]\n",
        "L.extend(['pop', 10])\n",
        "L"
      ],
      "execution_count": null,
      "outputs": []
    },
    {
      "cell_type": "markdown",
      "metadata": {
        "id": "zyEaLUBb2ABN"
      },
      "source": [
        "Jika kita menambahkan list <code>['a','b']</code> kita memiliki satu elemen baru yang terdiri dari list bersarang:"
      ]
    },
    {
      "cell_type": "code",
      "metadata": {
        "id": "VwUieRbu2ABO"
      },
      "source": [
        "# Use append to add elements to list\n",
        "\n",
        "L.append(['a','b'])\n",
        "L"
      ],
      "execution_count": null,
      "outputs": []
    },
    {
      "cell_type": "markdown",
      "metadata": {
        "id": "CL5I8Abc2ABS"
      },
      "source": [
        "Karena list bersifat dapat diubah (**mutable**), kita dapat mengubahnya. Misalnya, kita dapat mengubah elemen pertama sebagai berikut:"
      ]
    },
    {
      "cell_type": "code",
      "metadata": {
        "id": "u1hCSVnr2ABT"
      },
      "source": [
        "# Change the element based on the index\n",
        "\n",
        "A = [\"disco\", 10, 1.2]\n",
        "print('Before change:', A)\n",
        "A[0] = 'hard rock'\n",
        "print('After change:', A)"
      ],
      "execution_count": null,
      "outputs": []
    },
    {
      "cell_type": "markdown",
      "metadata": {
        "id": "jN3NK8022ABY"
      },
      "source": [
        "Kita juga dapat menghapus elemen suatu list menggunakan perintah <code>del</code>:"
      ]
    },
    {
      "cell_type": "code",
      "metadata": {
        "id": "NSWNK2QO2ABY"
      },
      "source": [
        "# Delete the element based on the index\n",
        "\n",
        "print('Before change:', A)\n",
        "del(A[0])\n",
        "print('After change:', A)"
      ],
      "execution_count": null,
      "outputs": []
    },
    {
      "cell_type": "markdown",
      "metadata": {
        "id": "8MWB4Vv82ABd"
      },
      "source": [
        "Kita dapat mengubah string menjadi list menggunakan <code>split</code>. Misalnya, metode <code>split</code> menerjemahkan setiap kelompok karakter yang dipisahkan oleh spasi menjadi elemen dalam list:"
      ]
    },
    {
      "cell_type": "code",
      "metadata": {
        "id": "fRkqQYrh2ABe"
      },
      "source": [
        "# Split the string, default is by space\n",
        "\n",
        "'hard rock'.split()"
      ],
      "execution_count": null,
      "outputs": []
    },
    {
      "cell_type": "markdown",
      "metadata": {
        "id": "T5tGBW142ABi"
      },
      "source": [
        "Kita dapat menggunakan fungsi split untuk memisahkan string pada karakter tertentu. Kita masukkan karakter yang ingin kita pisahkan ke dalam argumen, yang dalam kasus ini adalah koma. Hasilnya adalah list, dan setiap elemen sesuai dengan serangkaian karakter yang telah dipisahkan oleh koma:"
      ]
    },
    {
      "cell_type": "code",
      "metadata": {
        "id": "GJUIWYMA2ABj"
      },
      "source": [
        "# Split the string by comma\n",
        "\n",
        "'A,B,C,D'.split(',')"
      ],
      "execution_count": null,
      "outputs": []
    },
    {
      "cell_type": "markdown",
      "metadata": {
        "id": "Q5AzWiOH2ABo"
      },
      "source": [
        "<h3 id=\"co\">Copy and Clone List</h3>"
      ]
    },
    {
      "cell_type": "markdown",
      "metadata": {
        "id": "WygcLlS32ABp"
      },
      "source": [
        "Ketika kita menetapkan satu variabel <b>B</b> sama dengan <b>A</b>; baik <b>A</b> maupun <b>B</b> merujuk ke list yang sama di memori:"
      ]
    },
    {
      "cell_type": "code",
      "metadata": {
        "id": "yt-71zAn2ABq"
      },
      "source": [
        "# Copy (copy by reference) the list A\n",
        "\n",
        "A = [\"hard rock\", 10, 1.2]\n",
        "B = A\n",
        "print('A:', A)\n",
        "print('B:', B)"
      ],
      "execution_count": null,
      "outputs": []
    },
    {
      "cell_type": "markdown",
      "metadata": {
        "id": "e_Zy0Tmv2ABu"
      },
      "source": [
        "<img src=\"https://s3-api.us-geo.objectstorage.softlayer.net/cf-courses-data/CognitiveClass/PY0101EN/Chapter%202/Images/ListsRef.png\" width=\"1000\" align=\"center\">"
      ]
    },
    {
      "cell_type": "markdown",
      "metadata": {
        "id": "PGYBw9q32ABw"
      },
      "source": [
        "Awalnya, nilai elemen pertama dalam <b>B</b> ditetapkan sebagai hard rock. Jika kita mengubah elemen pertama dalam <b>A</b> menjadi <b>banana</b>, kita mendapatkan efek samping yang tidak diharapkan. Karena <b>A</b> dan <b>B</b> merujuk ke daftar yang sama, jika kita mengubah list <b>A</b>, maka list <b>B</b> juga berubah. Jika kita memeriksa elemen pertama dari <b>B</b>, kita mendapatkan banana alih-alih hard rock:"
      ]
    },
    {
      "cell_type": "code",
      "metadata": {
        "id": "tZPg3Pt92ABw"
      },
      "source": [
        "# Examine the copy by reference\n",
        "\n",
        "print('B[0]:', B[0])\n",
        "A[0] = \"banana\"\n",
        "print('B[0]:', B[0])"
      ],
      "execution_count": null,
      "outputs": []
    },
    {
      "cell_type": "markdown",
      "metadata": {
        "id": "dqSLQfv22AB1"
      },
      "source": [
        "This is demonstrated in the following figure:"
      ]
    },
    {
      "cell_type": "markdown",
      "metadata": {
        "id": "1mYh-UR_2AB3"
      },
      "source": [
        "<img src = \"https://s3-api.us-geo.objectstorage.softlayer.net/cf-courses-data/CognitiveClass/PY0101EN/Chapter%202/Images/ListsRefGif.gif\" width=\"1000\" />"
      ]
    },
    {
      "cell_type": "markdown",
      "metadata": {
        "id": "To8UaMW22AB3"
      },
      "source": [
        "Anda dapat mengkloning daftar **A** dengan menggunakan sintaks berikut:"
      ]
    },
    {
      "cell_type": "code",
      "metadata": {
        "id": "0OUNDPfB2AB4"
      },
      "source": [
        "# Clone (clone by value) the list A\n",
        "\n",
        "B = A[:]\n",
        "B"
      ],
      "execution_count": null,
      "outputs": []
    },
    {
      "cell_type": "markdown",
      "metadata": {
        "id": "67Mg2AaO2AB9"
      },
      "source": [
        "Variabel **B** merujuk pada salinan atau klon baru dari list asli; ini ditunjukkan dalam gambar berikut:"
      ]
    },
    {
      "cell_type": "markdown",
      "metadata": {
        "id": "HfE2uqk42AB-"
      },
      "source": [
        "<img src=\"https://s3-api.us-geo.objectstorage.softlayer.net/cf-courses-data/CognitiveClass/PY0101EN/Chapter%202/Images/ListsVal.gif\" width=\"1000\" />"
      ]
    },
    {
      "cell_type": "markdown",
      "metadata": {
        "id": "8s2uav0R2AB-"
      },
      "source": [
        "Sekarang jika Anda mengubah <b>A</b>, <b>B</b> tidak akan berubah:"
      ]
    },
    {
      "cell_type": "code",
      "metadata": {
        "id": "znn-3gHv2AB_"
      },
      "source": [
        "print('B[0]:', B[0])\n",
        "A[0] = \"hard rock\"\n",
        "print('B[0]:', B[0])"
      ],
      "execution_count": null,
      "outputs": []
    },
    {
      "cell_type": "markdown",
      "metadata": {
        "id": "DRbDRdP32ACM"
      },
      "source": [
        "<h2 id=\"quiz\">Quiz on List</h2>"
      ]
    },
    {
      "cell_type": "markdown",
      "metadata": {
        "id": "6lYdJiy72ACO"
      },
      "source": [
        "Buat list <code>a_list</code>, dengan elemen-elemen berikut <code>1</code>, <code>hello</code>, <code>[1,2,3]</code> dan <code>True</code>."
      ]
    },
    {
      "cell_type": "code",
      "metadata": {
        "id": "beII12YY2ACP"
      },
      "source": [
        "# Write your code below and press Shift+Enter to execute"
      ],
      "execution_count": null,
      "outputs": []
    },
    {
      "cell_type": "markdown",
      "metadata": {
        "id": "1HzgQgqS2ACW"
      },
      "source": [
        "Temukan nilai yang disimpan pada indeks 1 dari <code>a_list</code>."
      ]
    },
    {
      "cell_type": "code",
      "metadata": {
        "id": "LZo-PX3j2ACX"
      },
      "source": [
        "# Write your code below and press Shift+Enter to execute"
      ],
      "execution_count": null,
      "outputs": []
    },
    {
      "cell_type": "markdown",
      "metadata": {
        "id": "yxx46MiS2ACd"
      },
      "source": [
        "Ambil elemen yang disimpan pada indeks 1, 2, dan 3 dari <code>a_list</code>."
      ]
    },
    {
      "cell_type": "code",
      "metadata": {
        "id": "yvPeitkP2ACd"
      },
      "source": [
        "# Write your code below and press Shift+Enter to execute"
      ],
      "execution_count": null,
      "outputs": []
    },
    {
      "cell_type": "markdown",
      "metadata": {
        "id": "eQqJQfW32ACj"
      },
      "source": [
        "Gabungkan daftar berikut <code>A = [1, 'a']</code> dan <code>B = [2, 1, 'd']</code>:"
      ]
    },
    {
      "cell_type": "code",
      "metadata": {
        "id": "yeM60r-p2ACk"
      },
      "source": [
        "# Write your code below and press Shift+Enter to execute"
      ],
      "execution_count": null,
      "outputs": []
    },
    {
      "cell_type": "markdown",
      "metadata": {
        "id": "Ml6cGgNh2ACr"
      },
      "source": [
        "<hr>\n",
        "<h2>The last exercise!</h2>\n",
        "<p>Congratulations, you have completed your first lesson and hands-on lab in Python. However, there is one more thing you need to do. The Data Science community encourages sharing work. The best way to share and showcase your work is to share it on GitHub. By sharing your notebook on GitHub you are not only building your reputation with fellow data scientists, but you can also show it off when applying for a job. Even though this was your first piece of work, it is never too early to start building good habits. So, please read and follow <a href=\"https://cognitiveclass.ai/blog/data-scientists-stand-out-by-sharing-your-notebooks/\" target=\"_blank\">this article</a> to learn how to share your work.\n",
        "<hr>"
      ]
    },
    {
      "cell_type": "markdown",
      "metadata": {
        "id": "JHRWvasU2ACs"
      },
      "source": [
        "<h3>About the Authors:</h3>  \n",
        "<p><a href=\"https://www.linkedin.com/in/joseph-s-50398b136/\" target=\"_blank\">Joseph Santarcangelo</a> is a Data Scientist at IBM, and holds a PhD in Electrical Engineering. His research focused on using Machine Learning, Signal Processing, and Computer Vision to determine how videos impact human cognition. Joseph has been working for IBM since he completed his PhD.</p>"
      ]
    },
    {
      "cell_type": "markdown",
      "metadata": {
        "id": "pldPV21I2ACt"
      },
      "source": [
        "<p>Other contributors: <a href=\"https://www.linkedin.com/in/jiahui-mavis-zhou-a4537814a\">Mavis Zhou</a>, <a href=\"https://github.com/computationalcore\" target=\"_blank\">Vin Busquet</a>, <a href=\"https://github.com/raphtrajano\" target=\"_blank\">Raph Trajano</a></p>"
      ]
    },
    {
      "cell_type": "markdown",
      "metadata": {
        "id": "KgvrfK8a2ACu"
      },
      "source": [
        "<hr>"
      ]
    },
    {
      "cell_type": "markdown",
      "metadata": {
        "id": "XuKDDEgo2ACv"
      },
      "source": [
        "<p>Copyright &copy; 2018 IBM Developer Skills Network. This notebook and its source code are released under the terms of the <a href=\"https://cognitiveclass.ai/mit-license/\">MIT License</a>.</p>"
      ]
    }
  ]
}